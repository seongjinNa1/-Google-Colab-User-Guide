{
  "nbformat": 4,
  "nbformat_minor": 0,
  "metadata": {
    "colab": {
      "provenance": [],
      "gpuType": "T4",
      "authorship_tag": "ABX9TyP9AFKfp+b3pZTGKqlBdV84",
      "include_colab_link": true
    },
    "kernelspec": {
      "name": "python3",
      "display_name": "Python 3"
    },
    "language_info": {
      "name": "python"
    },
    "accelerator": "GPU"
  },
  "cells": [
    {
      "cell_type": "markdown",
      "metadata": {
        "id": "view-in-github",
        "colab_type": "text"
      },
      "source": [
        "<a href=\"https://colab.research.google.com/github/seongjinNa1/-Google-Colab-User-Guide/blob/main/colab_basic_1.ipynb\" target=\"_parent\"><img src=\"https://colab.research.google.com/assets/colab-badge.svg\" alt=\"Open In Colab\"/></a>"
      ]
    },
    {
      "cell_type": "code",
      "execution_count": null,
      "metadata": {
        "id": "ZaWmXsSpia_R"
      },
      "outputs": [],
      "source": [
        "python code  성적표 1"
      ]
    },
    {
      "cell_type": "code",
      "source": [
        "# 학생 데이터 저장할 리스트 초기화\n",
        "students = []\n",
        "\n",
        "# 5명 학생 정보 입력 받기\n",
        "for i in range(5):\n",
        "    name = input(f\"{i+1}번째 학생 이름 입력: \")\n",
        "    korean = int(input(\"국어 점수 입력: \"))\n",
        "    math = int(input(\"수학 점수 입력: \"))\n",
        "    science = int(input(\"과학 점수 입력: \"))\n",
        "    total = korean + math + science\n",
        "    avg = total / 3\n",
        "    students.append({\n",
        "        'name': name,\n",
        "        'korean': korean,\n",
        "        'math': math,\n",
        "        'science': science,\n",
        "        'total': total,\n",
        "        'average': avg\n",
        "    })\n",
        "    print()  # 줄바꿈\n",
        "\n",
        "# 각 학생의 합계와 평균 출력\n",
        "print(\"학생별 성적 및 평균\")\n",
        "for s in students:\n",
        "    print(f\"{s['name']} - 합계: {s['total']}점, 평균: {s['average']:.2f}점\")\n",
        "\n",
        "# 전체 과목별 평균 계산\n",
        "total_korean = sum(s['korean'] for s in students)\n",
        "total_math = sum(s['math'] for s in students)\n",
        "total_science = sum(s['science'] for s in students)\n",
        "\n",
        "print(\"\\n전체 과목별 평균\")\n",
        "print(f\"국어 평균: {total_korean / 5:.2f}점\")\n",
        "print(f\"수학 평균: {total_math / 5:.2f}점\")\n",
        "print(f\"과학 평균: {total_science / 5:.2f}점\")"
      ],
      "metadata": {
        "colab": {
          "base_uri": "https://localhost:8080/"
        },
        "id": "mt-Nxi9zlsIY",
        "outputId": "553bff12-1d4b-4220-d5ee-a1b2a17c459c"
      },
      "execution_count": 1,
      "outputs": [
        {
          "output_type": "stream",
          "name": "stdout",
          "text": [
            "1번째 학생 이름 입력: teo\n",
            "국어 점수 입력: 80\n",
            "수학 점수 입력: 90\n",
            "과학 점수 입력: 97\n",
            "\n",
            "2번째 학생 이름 입력: seo\n",
            "국어 점수 입력: 44\n",
            "수학 점수 입력: 54\n",
            "과학 점수 입력: 10\n",
            "\n",
            "3번째 학생 이름 입력: dowon\n",
            "국어 점수 입력: 66\n",
            "수학 점수 입력: 77\n",
            "과학 점수 입력: 88\n",
            "\n",
            "4번째 학생 이름 입력: song\n",
            "국어 점수 입력: 97\n",
            "수학 점수 입력: 10\n",
            "과학 점수 입력: 10\n",
            "\n",
            "5번째 학생 이름 입력: kim\n",
            "국어 점수 입력: 100\n",
            "수학 점수 입력: 100\n",
            "과학 점수 입력: 50\n",
            "\n",
            "학생별 성적 및 평균\n",
            "teo - 합계: 267점, 평균: 89.00점\n",
            "seo - 합계: 108점, 평균: 36.00점\n",
            "dowon - 합계: 231점, 평균: 77.00점\n",
            "song - 합계: 117점, 평균: 39.00점\n",
            "kim - 합계: 250점, 평균: 83.33점\n",
            "\n",
            "전체 과목별 평균\n",
            "국어 평균: 77.40점\n",
            "수학 평균: 66.20점\n",
            "과학 평균: 51.00점\n"
          ]
        }
      ]
    },
    {
      "cell_type": "code",
      "source": [
        "# 학생 데이터\n",
        "students = [\n",
        "    {'name': 'teo', 'korean': 80, 'math': 90, 'science': 97},\n",
        "    {'name': 'seo', 'korean': 44, 'math': 54, 'science': 10},\n",
        "    {'name': 'dowon', 'korean': 66, 'math': 77, 'science': 88},\n",
        "    {'name': 'song', 'korean': 97, 'math': 10, 'science': 10},\n",
        "    {'name': 'kim', 'korean': 100, 'math': 100, 'science': 50},\n",
        "]\n",
        "\n",
        "# 합계와 평균 계산\n",
        "for s in students:\n",
        "    s['total'] = s['korean'] + s['math'] + s['science']\n",
        "    s['average'] = s['total'] / 3\n",
        "\n",
        "# 전체 과목별 평균 계산\n",
        "avg_korean = sum(s['korean'] for s in students) / len(students)\n",
        "avg_math = sum(s['math'] for s in students) / len(students)\n",
        "avg_science = sum(s['science'] for s in students) / len(students)\n",
        "\n",
        "# 표 출력\n",
        "print(f\"{'번호':<4} {'이름':<6} {'국어':<5} {'수학':<5} {'과학':<5} {'합계':<5} {'평균':<6}\")\n",
        "for i, s in enumerate(students, 1):\n",
        "    print(f\"{i:<4} {s['name']:<6} {s['korean']:<5} {s['math']:<5} {s['science']:<5} {s['total']:<5} {s['average']:.2f}\")\n",
        "\n",
        "print(f\"{'평균':<10} {avg_korean:<5.2f} {avg_math:<5.2f} {avg_science:<5.2f}\")\n"
      ],
      "metadata": {
        "id": "Y9s78WPCormh"
      },
      "execution_count": null,
      "outputs": []
    }
  ]
# 학생 성적 및 과목별 평균 계산

아래는 학생 5명의 성적과 전체 과목별 평균까지 포함해 표 형태로 출력하는 파이썬 코드입니다.

---

## 1. 학생 데이터

```python
students = [
    {'name': 'teo', 'korean': 80, 'math': 90, 'science': 97},
    {'name': 'seo', 'korean': 44, 'math': 54, 'science': 10},
    {'name': 'dowon', 'korean': 66, 'math': 77, 'science': 88},
    {'name': 'song', 'korean': 97, 'math': 10, 'science': 10},
    {'name': 'kim', 'korean': 100, 'math': 100, 'science': 50},
]
