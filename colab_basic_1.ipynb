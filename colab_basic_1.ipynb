{
  "nbformat": 4,
  "nbformat_minor": 0,
  "metadata": {
    "colab": {
      "provenance": [],
      "gpuType": "T4",
      "authorship_tag": "ABX9TyMaKqJpaD8IBzLfNhiTzz3b",
      "include_colab_link": true
    },
    "kernelspec": {
      "name": "python3",
      "display_name": "Python 3"
    },
    "language_info": {
      "name": "python"
    },
    "accelerator": "GPU"
  },
  "cells": [
    {
      "cell_type": "markdown",
      "metadata": {
        "id": "view-in-github",
        "colab_type": "text"
      },
      "source": [
        "<a href=\"https://colab.research.google.com/github/seongjinNa1/-Google-Colab-User-Guide/blob/main/colab_basic_1.ipynb\" target=\"_parent\"><img src=\"https://colab.research.google.com/assets/colab-badge.svg\" alt=\"Open In Colab\"/></a>"
      ]
    },
    {
      "cell_type": "code",
      "execution_count": null,
      "metadata": {
        "id": "ZaWmXsSpia_R"
      },
      "outputs": [],
      "source": [
        "python code  성적표 1"
      ]
    },
    {
      "cell_type": "code",
      "source": [
        "# 학생 데이터 저장할 리스트 초기화\n",
        "students = []\n",
        "\n",
        "# 5명 학생 정보 입력 받기\n",
        "for i in range(5):\n",
        "    name = input(f\"{i+1}번째 학생 이름 입력: \")\n",
        "    korean = int(input(\"국어 점수 입력: \"))\n",
        "    math = int(input(\"수학 점수 입력: \"))\n",
        "    science = int(input(\"과학 점수 입력: \"))\n",
        "    total = korean + math + science\n",
        "    avg = total / 3\n",
        "    students.append({\n",
        "        'name': name,\n",
        "        'korean': korean,\n",
        "        'math': math,\n",
        "        'science': science,\n",
        "        'total': total,\n",
        "        'average': avg\n",
        "    })\n",
        "    print()  # 줄바꿈\n",
        "\n",
        "# 각 학생의 합계와 평균 출력\n",
        "print(\"학생별 성적 및 평균\")\n",
        "for s in students:\n",
        "    print(f\"{s['name']} - 합계: {s['total']}점, 평균: {s['average']:.2f}점\")\n",
        "\n",
        "# 전체 과목별 평균 계산\n",
        "total_korean = sum(s['korean'] for s in students)\n",
        "total_math = sum(s['math'] for s in students)\n",
        "total_science = sum(s['science'] for s in students)\n",
        "\n",
        "print(\"\\n전체 과목별 평균\")\n",
        "print(f\"국어 평균: {total_korean / 5:.2f}점\")\n",
        "print(f\"수학 평균: {total_math / 5:.2f}점\")\n",
        "print(f\"과학 평균: {total_science / 5:.2f}점\")"
      ],
      "metadata": {
        "colab": {
          "base_uri": "https://localhost:8080/"
        },
        "id": "mt-Nxi9zlsIY",
        "outputId": "553bff12-1d4b-4220-d5ee-a1b2a17c459c"
      },
      "execution_count": 1,
      "outputs": [
        {
          "output_type": "stream",
          "name": "stdout",
          "text": [
            "1번째 학생 이름 입력: teo\n",
            "국어 점수 입력: 80\n",
            "수학 점수 입력: 90\n",
            "과학 점수 입력: 97\n",
            "\n",
            "2번째 학생 이름 입력: seo\n",
            "국어 점수 입력: 44\n",
            "수학 점수 입력: 54\n",
            "과학 점수 입력: 10\n",
            "\n",
            "3번째 학생 이름 입력: dowon\n",
            "국어 점수 입력: 66\n",
            "수학 점수 입력: 77\n",
            "과학 점수 입력: 88\n",
            "\n",
            "4번째 학생 이름 입력: song\n",
            "국어 점수 입력: 97\n",
            "수학 점수 입력: 10\n",
            "과학 점수 입력: 10\n",
            "\n",
            "5번째 학생 이름 입력: kim\n",
            "국어 점수 입력: 100\n",
            "수학 점수 입력: 100\n",
            "과학 점수 입력: 50\n",
            "\n",
            "학생별 성적 및 평균\n",
            "teo - 합계: 267점, 평균: 89.00점\n",
            "seo - 합계: 108점, 평균: 36.00점\n",
            "dowon - 합계: 231점, 평균: 77.00점\n",
            "song - 합계: 117점, 평균: 39.00점\n",
            "kim - 합계: 250점, 평균: 83.33점\n",
            "\n",
            "전체 과목별 평균\n",
            "국어 평균: 77.40점\n",
            "수학 평균: 66.20점\n",
            "과학 평균: 51.00점\n"
          ]
        }
      ]
    }
  ]
}
| 번호     | 이름    | 국어        | 수학        | 과학        | 합계  | 평균    |
| ------ | ----- | --------- | --------- | --------- | --- | ----- |
| 1      | teo   | 80        | 90        | 97        | 267 | 89.00 |
| 2      | seo   | 44        | 54        | 10        | 108 | 36.00 |
| 3      | dowon | 66        | 77        | 88        | 231 | 77.00 |
| 4      | song  | 97        | 10        | 10        | 117 | 39.00 |
| 5      | kim   | 100       | 100       | 50        | 250 | 83.33 |
| **평균** |       | **77.40** | **66.20** | **51.00** |     |       |
