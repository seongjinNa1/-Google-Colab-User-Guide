# 학생 성적 입력 및 평균 계산

아래 파이썬 코드는 학생 5명의 이름과 국어, 수학, 과학 점수를 입력받아  
각 학생별 합계와 평균을 출력하고, 전체 과목별 평균도 계산하여 출력합니다.

---

## 1. 파이썬 코드

```python
# 학생 데이터 저장할 리스트 초기화
students = []

# 5명 학생 정보 입력 받기
for i in range(5):
    name = input(f"{i+1}번째 학생 이름 입력: ")
    korean = int(input("국어 점수 입력: "))
    math = int(input("수학 점수 입력: "))
    science = int(input("과학 점수 입력: "))
    total = korean + math + science
    avg = total / 3
    students.append({
        'name': name,
        'korean': korean,
        'math': math,
        'science': science,
        'total': total,
        'average': avg
    })
    print()  # 줄바꿈

# 각 학생의 합계와 평균 출력
print("학생별 성적 및 평균")
for s in students:
    print(f"{s['name']} - 합계: {s['total']}점, 평균: {s['average']:.2f}점")

# 전체 과목별 평균 계산
total_korean = sum(s['korean'] for s in students)
total_math = sum(s['math'] for s in students)
total_science = sum(s['science'] for s in students)

print("\n전체 과목별 평균")
print(f"국어 평균: {total_korean / 5:.2f}점")
print(f"수학 평균: {total_math / 5:.2f}점")
print(f"과학 평균: {total_science / 5:.2f}점")
