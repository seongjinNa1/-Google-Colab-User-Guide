{
  "nbformat": 4,
  "nbformat_minor": 0,
  "metadata": {
    "colab": {
      "provenance": [],
      "authorship_tag": "ABX9TyPv106udW0/FjmpTKJgcabz",
      "include_colab_link": true
    },
    "kernelspec": {
      "name": "python3",
      "display_name": "Python 3"
    },
    "language_info": {
      "name": "python"
    }
  },
  "cells": [
    {
      "cell_type": "markdown",
      "metadata": {
        "id": "view-in-github",
        "colab_type": "text"
      },
      "source": [
        "<a href=\"https://colab.research.google.com/github/seongjinNa1/-Google-Colab-User-Guide/blob/main/Untitled1.ipynb\" target=\"_parent\"><img src=\"https://colab.research.google.com/assets/colab-badge.svg\" alt=\"Open In Colab\"/></a>"
      ]
    },
    {
      "cell_type": "code",
      "execution_count": null,
      "metadata": {
        "id": "Op1ob4rRzdLC"
      },
      "outputs": [],
      "source": [
        "\n",
        "# 학생 데이터 저장할 리스트 초기화\n",
        "students = []\n",
        "\n",
        "# 5명 학생 정보 입력 받기\n",
        "for i in range(5):\n",
        "    name = input(f\"{i+1}번째 학생 이름 입력: \")\n",
        "    korean = int(input(\"국어 점수 입력: \"))\n",
        "    math = int(input(\"수학 점수 입력: \"))\n",
        "    science = int(input(\"과학 점수 입력: \"))\n",
        "    total = korean + math + science\n",
        "    avg = total / 3\n",
        "    students.append({\n",
        "        'name': name,\n",
        "        'korean': korean,\n",
        "        'math': math,\n",
        "        'science': science,\n",
        "        'total': total,\n",
        "        'average': avg\n",
        "    })\n",
        "    print()  # 줄바꿈\n",
        "\n",
        "# 각 학생의 합계와 평균 출력\n",
        "print(\"학생별 성적 및 평균\")\n",
        "for s in students:\n",
        "    print(f\"{s['name']} - 합계: {s['total']}점, 평균: {s['average']:.2f}점\")\n",
        "\n",
        "# 전체 과목별 평균 계산\n",
        "total_korean = sum(s['korean'] for s in students)\n",
        "total_math = sum(s['math'] for s in students)\n",
        "total_science = sum(s['science'] for s in students)\n",
        "\n",
        "print(\"\\n전체 과목별 평균\")\n",
        "print(f\"국어 평균: {total_korean / 5:.2f}점\")\n",
        "print(f\"수학 평균: {total_math / 5:.2f}점\")\n",
        "print(f\"과학 평균: {total_science / 5:.2f}점\")\n",
        "\n",
        ""
      ]
    }
  ]
}